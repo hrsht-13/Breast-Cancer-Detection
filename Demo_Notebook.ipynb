{
  "nbformat": 4,
  "nbformat_minor": 0,
  "metadata": {
    "colab": {
      "name": "Demo Notebook.ipynb",
      "provenance": [],
      "collapsed_sections": []
    },
    "kernelspec": {
      "name": "python3",
      "display_name": "Python 3"
    },
    "language_info": {
      "name": "python"
    },
    "accelerator": "GPU"
  },
  "cells": [
    {
      "cell_type": "code",
      "metadata": {
        "id": "ykgkT8riKZRb"
      },
      "source": [
        "import numpy as np\n",
        "import seaborn as sns\n",
        "import pandas as pd\n",
        "import matplotlib.pyplot as plt\n",
        "import cv2\n",
        "import seaborn as sns\n",
        "from keras_preprocessing.image import ImageDataGenerator\n",
        "from sklearn.preprocessing import LabelEncoder\n",
        "import albumentations as A\n",
        "from tensorflow.keras.utils import Sequence\n",
        "from sklearn.model_selection import train_test_split\n",
        "import cv2\n",
        "from google.colab.patches import cv2_imshow\n",
        "import skimage.exposure\n",
        "import os"
      ],
      "execution_count": null,
      "outputs": []
    },
    {
      "cell_type": "code",
      "metadata": {
        "id": "m6as12EOK_py"
      },
      "source": [
        "!unzip \"/content/drive/MyDrive/mammography_images.zip\""
      ],
      "execution_count": null,
      "outputs": []
    },
    {
      "cell_type": "code",
      "metadata": {
        "id": "6i7A8FR7LJea"
      },
      "source": [
        "train=pd.read_csv(\"/content/mammography_images/Training_set.csv\")\n",
        "test=pd.read_csv(\"/content/mammography_images/Testing_set.csv\")\n",
        "sub=pd.read_csv(\"/content/mammography_images/sample_submission.csv\")"
      ],
      "execution_count": null,
      "outputs": []
    },
    {
      "cell_type": "code",
      "metadata": {
        "colab": {
          "base_uri": "https://localhost:8080/",
          "height": 195
        },
        "id": "ewk47YVXMvsQ",
        "outputId": "e0a918bd-9372-4708-df9d-5f0ee9dd9c99"
      },
      "source": [
        "train.head()"
      ],
      "execution_count": null,
      "outputs": [
        {
          "output_type": "execute_result",
          "data": {
            "text/html": [
              "<div>\n",
              "<style scoped>\n",
              "    .dataframe tbody tr th:only-of-type {\n",
              "        vertical-align: middle;\n",
              "    }\n",
              "\n",
              "    .dataframe tbody tr th {\n",
              "        vertical-align: top;\n",
              "    }\n",
              "\n",
              "    .dataframe thead th {\n",
              "        text-align: right;\n",
              "    }\n",
              "</style>\n",
              "<table border=\"1\" class=\"dataframe\">\n",
              "  <thead>\n",
              "    <tr style=\"text-align: right;\">\n",
              "      <th></th>\n",
              "      <th>filename</th>\n",
              "      <th>label</th>\n",
              "    </tr>\n",
              "  </thead>\n",
              "  <tbody>\n",
              "    <tr>\n",
              "      <th>0</th>\n",
              "      <td>Image_1.jpg</td>\n",
              "      <td>Density3Benign</td>\n",
              "    </tr>\n",
              "    <tr>\n",
              "      <th>1</th>\n",
              "      <td>Image_2.jpg</td>\n",
              "      <td>Density1Benign</td>\n",
              "    </tr>\n",
              "    <tr>\n",
              "      <th>2</th>\n",
              "      <td>Image_3.jpg</td>\n",
              "      <td>Density1Malignant</td>\n",
              "    </tr>\n",
              "    <tr>\n",
              "      <th>3</th>\n",
              "      <td>Image_4.jpg</td>\n",
              "      <td>Density1Benign</td>\n",
              "    </tr>\n",
              "    <tr>\n",
              "      <th>4</th>\n",
              "      <td>Image_5.jpg</td>\n",
              "      <td>Density1Malignant</td>\n",
              "    </tr>\n",
              "  </tbody>\n",
              "</table>\n",
              "</div>"
            ],
            "text/plain": [
              "      filename              label\n",
              "0  Image_1.jpg     Density3Benign\n",
              "1  Image_2.jpg     Density1Benign\n",
              "2  Image_3.jpg  Density1Malignant\n",
              "3  Image_4.jpg     Density1Benign\n",
              "4  Image_5.jpg  Density1Malignant"
            ]
          },
          "metadata": {
            "tags": []
          },
          "execution_count": 19
        }
      ]
    },
    {
      "cell_type": "code",
      "metadata": {
        "colab": {
          "base_uri": "https://localhost:8080/"
        },
        "id": "Uh2yi0HZRouP",
        "outputId": "0cf93589-7195-4211-9f21-677d1dc6e11f"
      },
      "source": [
        "print(\"len of training set\", len(train))\n",
        "print(\"len of testing set\", len(test))"
      ],
      "execution_count": null,
      "outputs": [
        {
          "output_type": "stream",
          "text": [
            "len of training set 5724\n",
            "len of testing set 1908\n"
          ],
          "name": "stdout"
        }
      ]
    },
    {
      "cell_type": "code",
      "metadata": {
        "colab": {
          "base_uri": "https://localhost:8080/"
        },
        "id": "1EE-XpALLdc3",
        "outputId": "f94b2b58-3205-424c-9461-c8c84ead3be8"
      },
      "source": [
        "(train[\"label\"].value_counts())"
      ],
      "execution_count": null,
      "outputs": [
        {
          "output_type": "execute_result",
          "data": {
            "text/plain": [
              "Density2Malignant    1728\n",
              "Density1Malignant    1620\n",
              "Density3Benign        702\n",
              "Density1Benign        648\n",
              "Density3Malignant     432\n",
              "Density4Benign        324\n",
              "Density2Benign        216\n",
              "Density4Malignant      54\n",
              "Name: label, dtype: int64"
            ]
          },
          "metadata": {
            "tags": []
          },
          "execution_count": 6
        }
      ]
    },
    {
      "cell_type": "code",
      "metadata": {
        "colab": {
          "base_uri": "https://localhost:8080/",
          "height": 342
        },
        "id": "IeyjXGUOLelK",
        "outputId": "b003dc89-4dec-4827-ccc5-06abb6a05c6f"
      },
      "source": [
        "plt.figure(figsize=(12,4))\n",
        "sns.countplot(x=train[\"label\"],data=train,)\n",
        "plt.xticks(rotation=30)"
      ],
      "execution_count": null,
      "outputs": [
        {
          "output_type": "execute_result",
          "data": {
            "text/plain": [
              "(array([0, 1, 2, 3, 4, 5, 6, 7]), <a list of 8 Text major ticklabel objects>)"
            ]
          },
          "metadata": {
            "tags": []
          },
          "execution_count": 7
        },
        {
          "output_type": "display_data",
          "data": {
            "image/png": "[encoded data removed]",
            "text/plain": [
              "<Figure size 864x288 with 1 Axes>"
            ]
          },
          "metadata": {
            "tags": [],
            "needs_background": "light"
          }
        }
      ]
    },
    {
      "cell_type": "code",
      "metadata": {
        "colab": {
          "base_uri": "https://localhost:8080/",
          "height": 402
        },
        "id": "IZvWvLtgTi4d",
        "outputId": "2fd24b66-0c13-48dc-c972-9f4deab34138"
      },
      "source": [
        "train[train[\"label\"]==\"Density3Benign\"]"
      ],
      "execution_count": null,
      "outputs": [
        {
          "output_type": "execute_result",
          "data": {
            "text/html": [
              "<div>\n",
              "<style scoped>\n",
              "    .dataframe tbody tr th:only-of-type {\n",
              "        vertical-align: middle;\n",
              "    }\n",
              "\n",
              "    .dataframe tbody tr th {\n",
              "        vertical-align: top;\n",
              "    }\n",
              "\n",
              "    .dataframe thead th {\n",
              "        text-align: right;\n",
              "    }\n",
              "</style>\n",
              "<table border=\"1\" class=\"dataframe\">\n",
              "  <thead>\n",
              "    <tr style=\"text-align: right;\">\n",
              "      <th></th>\n",
              "      <th>filename</th>\n",
              "      <th>label</th>\n",
              "    </tr>\n",
              "  </thead>\n",
              "  <tbody>\n",
              "    <tr>\n",
              "      <th>0</th>\n",
              "      <td>Image_1.jpg</td>\n",
              "      <td>Density3Benign</td>\n",
              "    </tr>\n",
              "    <tr>\n",
              "      <th>6</th>\n",
              "      <td>Image_7.jpg</td>\n",
              "      <td>Density3Benign</td>\n",
              "    </tr>\n",
              "    <tr>\n",
              "      <th>19</th>\n",
              "      <td>Image_20.jpg</td>\n",
              "      <td>Density3Benign</td>\n",
              "    </tr>\n",
              "    <tr>\n",
              "      <th>24</th>\n",
              "      <td>Image_25.jpg</td>\n",
              "      <td>Density3Benign</td>\n",
              "    </tr>\n",
              "    <tr>\n",
              "      <th>33</th>\n",
              "      <td>Image_34.jpg</td>\n",
              "      <td>Density3Benign</td>\n",
              "    </tr>\n",
              "    <tr>\n",
              "      <th>...</th>\n",
              "      <td>...</td>\n",
              "      <td>...</td>\n",
              "    </tr>\n",
              "    <tr>\n",
              "      <th>5690</th>\n",
              "      <td>Image_5691.jpg</td>\n",
              "      <td>Density3Benign</td>\n",
              "    </tr>\n",
              "    <tr>\n",
              "      <th>5705</th>\n",
              "      <td>Image_5706.jpg</td>\n",
              "      <td>Density3Benign</td>\n",
              "    </tr>\n",
              "    <tr>\n",
              "      <th>5715</th>\n",
              "      <td>Image_5716.jpg</td>\n",
              "      <td>Density3Benign</td>\n",
              "    </tr>\n",
              "    <tr>\n",
              "      <th>5717</th>\n",
              "      <td>Image_5718.jpg</td>\n",
              "      <td>Density3Benign</td>\n",
              "    </tr>\n",
              "    <tr>\n",
              "      <th>5723</th>\n",
              "      <td>Image_5724.jpg</td>\n",
              "      <td>Density3Benign</td>\n",
              "    </tr>\n",
              "  </tbody>\n",
              "</table>\n",
              "<p>702 rows × 2 columns</p>\n",
              "</div>"
            ],
            "text/plain": [
              "            filename           label\n",
              "0        Image_1.jpg  Density3Benign\n",
              "6        Image_7.jpg  Density3Benign\n",
              "19      Image_20.jpg  Density3Benign\n",
              "24      Image_25.jpg  Density3Benign\n",
              "33      Image_34.jpg  Density3Benign\n",
              "...              ...             ...\n",
              "5690  Image_5691.jpg  Density3Benign\n",
              "5705  Image_5706.jpg  Density3Benign\n",
              "5715  Image_5716.jpg  Density3Benign\n",
              "5717  Image_5718.jpg  Density3Benign\n",
              "5723  Image_5724.jpg  Density3Benign\n",
              "\n",
              "[702 rows x 2 columns]"
            ]
          },
          "metadata": {
            "tags": []
          },
          "execution_count": 43
        }
      ]
    },
    {
      "cell_type": "code",
      "metadata": {
        "id": "Tb1hkqZcpLvA"
      },
      "source": [
        "def preprocess(image):\n",
        "    kernel = np.array([[0,-1,0], [-1,5,-1], [0,-1,0]])\n",
        "    im = cv2.filter2D(image, -1, kernel)\n",
        "    #out2 = skimage.exposure.rescale_intensity(im, in_range=(150,200), out_range=(0,255))\n",
        "    out1=(cv2.normalize(im, (224,224),0, 255, cv2.NORM_MINMAX))\n",
        "    return out1"
      ],
      "execution_count": null,
      "outputs": []
    },
    {
      "cell_type": "code",
      "metadata": {
        "id": "U6ST57D3Mr3r"
      },
      "source": [
        "X_train, X_valid = train_test_split(train, test_size=0.1,stratify=train[\"label\"],shuffle=True)"
      ],
      "execution_count": null,
      "outputs": []
    },
    {
      "cell_type": "code",
      "metadata": {
        "colab": {
          "base_uri": "https://localhost:8080/"
        },
        "id": "zadg3bosRya9",
        "outputId": "cca11469-f714-4a61-afd3-c14c1a753800"
      },
      "source": [
        "print(\"len of training set\", len(X_train))\n",
        "print(\"len of validation set\", len(X_valid))"
      ],
      "execution_count": null,
      "outputs": [
        {
          "output_type": "stream",
          "text": [
            "len of training set 5151\n",
            "len of validation set 573\n"
          ],
          "name": "stdout"
        }
      ]
    },
    {
      "cell_type": "code",
      "metadata": {
        "id": "WSk6zmh5NXZv"
      },
      "source": [
        "datagen=ImageDataGenerator(rescale=1./255,preprocessing_function=preprocess)"
      ],
      "execution_count": null,
      "outputs": []
    },
    {
      "cell_type": "code",
      "metadata": {
        "colab": {
          "base_uri": "https://localhost:8080/"
        },
        "id": "HgIPTadsNNp7",
        "outputId": "00fe6813-d88a-49f9-dbd5-b351d282c54a"
      },
      "source": [
        "train_generator=datagen.flow_from_dataframe(\n",
        "dataframe=X_train,\n",
        "directory=\"/content/mammography_images/train\",\n",
        "x_col=\"filename\",\n",
        "y_col=\"label\",\n",
        "batch_size=32,\n",
        "seed=42,\n",
        "shuffle=True,\n",
        "class_mode=\"categorical\",\n",
        "target_size=(224,224))"
      ],
      "execution_count": null,
      "outputs": [
        {
          "output_type": "stream",
          "text": [
            "Found 5151 validated image filenames belonging to 8 classes.\n"
          ],
          "name": "stdout"
        }
      ]
    },
    {
      "cell_type": "code",
      "metadata": {
        "colab": {
          "base_uri": "https://localhost:8080/",
          "height": 425
        },
        "id": "V85HgpY5NVra",
        "outputId": "639b92dc-1e17-459e-87af-2ba2e61be211"
      },
      "source": [
        "x,y = train_generator.next()\n",
        "for i in range(2):\n",
        "    image = x[i]\n",
        "    plt.figure(figsize=(6,8))\n",
        "    plt.subplot(1,2,i+1)\n",
        "    plt.imshow(image)\n",
        "    print(image.shape)\n",
        "   \n",
        "plt.show()"
      ],
      "execution_count": null,
      "outputs": [
        {
          "output_type": "stream",
          "text": [
            "(224, 224, 3)\n",
            "(224, 224, 3)\n"
          ],
          "name": "stdout"
        },
        {
          "output_type": "display_data",
          "data": {
            "image/png": "[encoded data removed]",
            "text/plain": [
              "<Figure size 432x576 with 1 Axes>"
            ]
          },
          "metadata": {
            "tags": [],
            "needs_background": "light"
          }
        },
        {
          "output_type": "display_data",
          "data": {
            "image/png": "[encoded data removed]",
            "text/plain": [
              "<Figure size 432x576 with 1 Axes>"
            ]
          },
          "metadata": {
            "tags": [],
            "needs_background": "light"
          }
        }
      ]
    },
    {
      "cell_type": "code",
      "metadata": {
        "colab": {
          "base_uri": "https://localhost:8080/"
        },
        "id": "m1hA3Yh-QIfs",
        "outputId": "2dd542f4-3603-456a-c8fb-7a2bdcd86027"
      },
      "source": [
        "valid_datagen=ImageDataGenerator(rescale=1./255.,preprocessing_function=preprocess)\n",
        "valid_generator=valid_datagen.flow_from_dataframe( \n",
        "dataframe=X_valid,\n",
        "directory=\"/content/mammography_images/train\",\n",
        "x_col=\"filename\",\n",
        "y_col=\"label\",\n",
        "batch_size=32,\n",
        "seed=42,\n",
        "shuffle=True,\n",
        "class_mode=\"categorical\",\n",
        "target_size=(224,224))"
      ],
      "execution_count": null,
      "outputs": [
        {
          "output_type": "stream",
          "text": [
            "Found 573 validated image filenames belonging to 8 classes.\n"
          ],
          "name": "stdout"
        }
      ]
    },
    {
      "cell_type": "code",
      "metadata": {
        "id": "OA91e9Q2RmtA"
      },
      "source": [
        "from tensorflow.keras.layers import Dense, Flatten, GlobalAveragePooling2D, BatchNormalization, Dropout,AveragePooling2D\n",
        "from tensorflow.keras.applications.resnet import ResNet50\n",
        "import tensorflow as tf\n",
        "from tensorflow.keras.applications import InceptionV3,DenseNet201,EfficientNetB7, MobileNetV2,Xception,VGG16,NASNetMobile\n",
        "from keras.applications.inception_resnet_v2 import InceptionResNetV2\n",
        "from tensorflow.keras.callbacks import ModelCheckpoint, EarlyStopping, ReduceLROnPlateau\n",
        "from keras.models import Model\n",
        "from keras.models import Sequential\n",
        "from keras.regularizers import *\n",
        "from tensorflow import keras\n",
        "from tensorflow.keras import layers"
      ],
      "execution_count": null,
      "outputs": []
    },
    {
      "cell_type": "code",
      "metadata": {
        "id": "bEq2Mh8LR8ke"
      },
      "source": [
        "checkpoint_path = \"training_0/cp.ckpt\"\n",
        "checkpoint_dir = os.path.dirname(checkpoint_path)\n",
        "my_callbacks = [\n",
        "               ModelCheckpoint(checkpoint_path, monitor = 'val_accuracy',verbose = 1,save_weights_only=True, save_best_only = True,mode=\"max\"),\n",
        "               EarlyStopping(monitor='val_loss', patience=5, verbose=0, mode='min'),\n",
        "               ReduceLROnPlateau(monitor='val_loss', factor=0.1, patience=5, verbose=1, mode='min',min_delta=1e-4)\n",
        "]"
      ],
      "execution_count": null,
      "outputs": []
    },
    {
      "cell_type": "code",
      "metadata": {
        "id": "9fBfb4I0SCEI"
      },
      "source": [
        "STEP_SIZE_TRAIN=train_generator.n//train_generator.batch_size\n",
        "STEP_SIZE_VALID=valid_generator.n//valid_generator.batch_size"
      ],
      "execution_count": null,
      "outputs": []
    },
    {
      "cell_type": "code",
      "metadata": {
        "id": "z1TU-wYfSO1Z"
      },
      "source": [
        "def build_model():\n",
        "  model = Sequential()\n",
        "\n",
        "  conv_base = DenseNet201(input_shape=(224,224,3), include_top=False, pooling='max',weights='imagenet')\n",
        "  model.add(conv_base)\n",
        "  model.add(BatchNormalization())\n",
        "  model.add(Dense(2048, activation='relu', kernel_regularizer=l1_l2(0.01)))\n",
        "  model.add(BatchNormalization())\n",
        "  model.add(Dense(8, activation='softmax'))\n",
        "\n",
        "  train_layers = [layer for layer in conv_base.layers[::-1][:5]]\n",
        "\n",
        "  for layer in conv_base.layers:\n",
        "    if layer in train_layers:\n",
        "      layer.trainable = True\n",
        "  return model"
      ],
      "execution_count": null,
      "outputs": []
    },
    {
      "cell_type": "code",
      "metadata": {
        "colab": {
          "base_uri": "https://localhost:8080/"
        },
        "id": "jpNf7802SclF",
        "outputId": "2d8df0e7-2591-4ae3-fc33-0a4e2108669d"
      },
      "source": [
        "my_model=build_model()"
      ],
      "execution_count": null,
      "outputs": [
        {
          "output_type": "stream",
          "text": [
            "Downloading data from https://storage.googleapis.com/tensorflow/keras-applications/densenet/densenet201_weights_tf_dim_ordering_tf_kernels_notop.h5\n",
            "74842112/74836368 [==============================] - 1s 0us/step\n"
          ],
          "name": "stdout"
        }
      ]
    },
    {
      "cell_type": "code",
      "metadata": {
        "id": "TI35fmXnSfTF"
      },
      "source": [
        "my_model.compile(optimizer =tf.keras.optimizers.Adam(learning_rate=0.00001,decay=0.0001),metrics=[\"accuracy\"],loss= tf.keras.losses.CategoricalCrossentropy(label_smoothing=0.1))"
      ],
      "execution_count": null,
      "outputs": []
    },
    {
      "cell_type": "code",
      "metadata": {
        "colab": {
          "base_uri": "https://localhost:8080/"
        },
        "id": "YIFL0K-PSiwV",
        "outputId": "8afcf30f-78fa-4454-8d81-d89f81bdcb3b"
      },
      "source": [
        "my_model.fit(\n",
        "        train_generator,\n",
        "        steps_per_epoch=STEP_SIZE_TRAIN,\n",
        "        epochs=5,\n",
        "        validation_data=valid_generator,\n",
        "        validation_steps=STEP_SIZE_VALID,callbacks=[my_callbacks])"
      ],
      "execution_count": null,
      "outputs": [
        {
          "output_type": "stream",
          "text": [
            "Epoch 1/5\n",
            "160/160 [==============================] - 90s 560ms/step - loss: 0.6533 - accuracy: 1.0000 - val_loss: 0.6591 - val_accuracy: 0.9926\n",
            "\n",
            "Epoch 00001: val_accuracy did not improve from 0.99816\n",
            "Epoch 2/5\n",
            "160/160 [==============================] - 91s 570ms/step - loss: 0.6348 - accuracy: 1.0000 - val_loss: 0.6548 - val_accuracy: 0.9945\n",
            "\n",
            "Epoch 00002: val_accuracy did not improve from 0.99816\n",
            "Epoch 3/5\n",
            "160/160 [==============================] - 92s 576ms/step - loss: 0.6301 - accuracy: 1.0000 - val_loss: 0.6548 - val_accuracy: 0.9945\n",
            "\n",
            "Epoch 00003: val_accuracy did not improve from 0.99816\n",
            "Epoch 4/5\n",
            "160/160 [==============================] - 93s 581ms/step - loss: 0.6170 - accuracy: 1.0000 - val_loss: 0.6355 - val_accuracy: 0.9982\n",
            "\n",
            "Epoch 00004: val_accuracy did not improve from 0.99816\n",
            "Epoch 5/5\n",
            "160/160 [==============================] - 93s 582ms/step - loss: 0.6073 - accuracy: 1.0000 - val_loss: 0.6192 - val_accuracy: 1.0000\n",
            "\n",
            "Epoch 00005: val_accuracy improved from 0.99816 to 1.00000, saving model to training_0/cp.ckpt\n"
          ],
          "name": "stdout"
        },
        {
          "output_type": "execute_result",
          "data": {
            "text/plain": [
              "<tensorflow.python.keras.callbacks.History at 0x7fc97c13d3d0>"
            ]
          },
          "metadata": {
            "tags": []
          },
          "execution_count": 76
        }
      ]
    },
    {
      "cell_type": "code",
      "metadata": {
        "colab": {
          "base_uri": "https://localhost:8080/"
        },
        "id": "mwTjyZZYuC8B",
        "outputId": "a4be8820-7cf4-4d04-84c5-2e74cba3725e"
      },
      "source": [
        "m.evaluate(valid_generator,verbose=1)"
      ],
      "execution_count": null,
      "outputs": [
        {
          "output_type": "stream",
          "text": [
            "18/18 [==============================] - 7s 136ms/step - loss: 0.6230 - accuracy: 1.0000\n"
          ],
          "name": "stdout"
        },
        {
          "output_type": "execute_result",
          "data": {
            "text/plain": [
              "[0.6186696290969849, 1.0]"
            ]
          },
          "metadata": {
            "tags": []
          },
          "execution_count": 97
        }
      ]
    },
    {
      "cell_type": "code",
      "metadata": {
        "colab": {
          "base_uri": "https://localhost:8080/"
        },
        "id": "_HgBxYOlSlhG",
        "outputId": "6ccb8267-10b1-4cfc-8ba3-f375cf21169b"
      },
      "source": [
        "my_model.load_weights(checkpoint_path)"
      ],
      "execution_count": null,
      "outputs": [
        {
          "output_type": "execute_result",
          "data": {
            "text/plain": [
              "<tensorflow.python.training.tracking.util.CheckpointLoadStatus at 0x7fc97c4ca5d0>"
            ]
          },
          "metadata": {
            "tags": []
          },
          "execution_count": 77
        }
      ]
    },
    {
      "cell_type": "code",
      "metadata": {
        "colab": {
          "base_uri": "https://localhost:8080/"
        },
        "id": "6w23OzKIT03m",
        "outputId": "499e2678-3812-4589-b247-fc4863636684"
      },
      "source": [
        "my_model.evaluate(valid_generator,verbose=1)"
      ],
      "execution_count": null,
      "outputs": [
        {
          "output_type": "stream",
          "text": [
            "18/18 [==============================] - 3s 135ms/step - loss: 0.6187 - accuracy: 1.0000\n"
          ],
          "name": "stdout"
        },
        {
          "output_type": "execute_result",
          "data": {
            "text/plain": [
              "[0.6186696290969849, 1.0]"
            ]
          },
          "metadata": {
            "tags": []
          },
          "execution_count": 78
        }
      ]
    },
    {
      "cell_type": "code",
      "metadata": {
        "colab": {
          "base_uri": "https://localhost:8080/"
        },
        "id": "ODaGcA-TT1kV",
        "outputId": "71bac5fe-46ef-449b-a4c9-1763fb765076"
      },
      "source": [
        "train_generator.class_indices"
      ],
      "execution_count": null,
      "outputs": [
        {
          "output_type": "execute_result",
          "data": {
            "text/plain": [
              "{'Density1Benign': 0,\n",
              " 'Density1Malignant': 1,\n",
              " 'Density2Benign': 2,\n",
              " 'Density2Malignant': 3,\n",
              " 'Density3Benign': 4,\n",
              " 'Density3Malignant': 5,\n",
              " 'Density4Benign': 6,\n",
              " 'Density4Malignant': 7}"
            ]
          },
          "metadata": {
            "tags": []
          },
          "execution_count": 79
        }
      ]
    },
    {
      "cell_type": "code",
      "metadata": {
        "colab": {
          "base_uri": "https://localhost:8080/"
        },
        "id": "5roV7vhxUaw4",
        "outputId": "7109e40e-c2ac-487f-bc4e-77f03bfb2d6f"
      },
      "source": [
        "test_datagen=ImageDataGenerator(rescale=1./255.,preprocessing_function=preprocess)\n",
        "test_generator=valid_datagen.flow_from_dataframe(\n",
        "dataframe=test,\n",
        "directory=\"/content/mammography_images/test\",\n",
        "x_col=\"filename\",\n",
        "y_col=None,\n",
        "batch_size=1,\n",
        "seed=42,\n",
        "shuffle=False,\n",
        "class_mode=None,\n",
        "target_size=(224,224))\n",
        "STEP_SIZE_TEST=test_generator.n//test_generator.batch_size"
      ],
      "execution_count": null,
      "outputs": [
        {
          "output_type": "stream",
          "text": [
            "Found 1908 validated image filenames.\n"
          ],
          "name": "stdout"
        }
      ]
    },
    {
      "cell_type": "code",
      "metadata": {
        "colab": {
          "base_uri": "https://localhost:8080/"
        },
        "id": "1vrIpTUlU0l6",
        "outputId": "5103ff60-2f6e-485e-c0e4-cc2c9d1f5627"
      },
      "source": [
        "pred1=np.argmax(my_model.predict(test_generator,steps=STEP_SIZE_TEST,verbose=1),axis=1)"
      ],
      "execution_count": null,
      "outputs": [
        {
          "output_type": "stream",
          "text": [
            "1908/1908 [==============================] - 44s 23ms/step\n"
          ],
          "name": "stdout"
        }
      ]
    },
    {
      "cell_type": "code",
      "metadata": {
        "colab": {
          "base_uri": "https://localhost:8080/"
        },
        "id": "4UiqOYOrVlw8",
        "outputId": "6bc1446c-048f-46bb-ba71-2dc6377480b6"
      },
      "source": [
        "pred1"
      ],
      "execution_count": null,
      "outputs": [
        {
          "output_type": "execute_result",
          "data": {
            "text/plain": [
              "array([4, 0, 3, ..., 3, 3, 3])"
            ]
          },
          "metadata": {
            "tags": []
          },
          "execution_count": 87
        }
      ]
    },
    {
      "cell_type": "code",
      "metadata": {
        "id": "62rCGDnMU5HD"
      },
      "source": [
        "sub[\"label\"]=pred1\n",
        "sub[\"label\"]=sub[\"label\"].map({0:'Density1Benign',\n",
        " 1:'Density1Malignant',\n",
        " 2:'Density2Benign',\n",
        " 3:'Density2Malignant',\n",
        " 4: 'Density3Benign',\n",
        " 5: 'Density3Malignant',\n",
        " 6:'Density4Benign',\n",
        " 7:  'Density4Malignant'})"
      ],
      "execution_count": null,
      "outputs": []
    },
    {
      "cell_type": "code",
      "metadata": {
        "colab": {
          "base_uri": "https://localhost:8080/"
        },
        "id": "e-F3Qhx5VXZ0",
        "outputId": "670bc899-a8d8-4ca5-c457-892ab8a2f451"
      },
      "source": [
        "sub[\"label\"].value_counts()"
      ],
      "execution_count": null,
      "outputs": [
        {
          "output_type": "execute_result",
          "data": {
            "text/plain": [
              "Density2Malignant    576\n",
              "Density1Malignant    540\n",
              "Density3Benign       234\n",
              "Density1Benign       216\n",
              "Density3Malignant    144\n",
              "Density4Benign       108\n",
              "Density2Benign        72\n",
              "Density4Malignant     18\n",
              "Name: label, dtype: int64"
            ]
          },
          "metadata": {
            "tags": []
          },
          "execution_count": 89
        }
      ]
    },
    {
      "cell_type": "code",
      "metadata": {
        "id": "xJcK-Np9Vd7V"
      },
      "source": [
        "sub.to_csv(\"9.csv\",index=False)"
      ],
      "execution_count": null,
      "outputs": []
    }
  ]
}